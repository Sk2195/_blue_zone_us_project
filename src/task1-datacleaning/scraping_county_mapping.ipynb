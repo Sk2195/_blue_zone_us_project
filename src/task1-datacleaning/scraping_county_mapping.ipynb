{
 "cells": [
  {
   "cell_type": "markdown",
   "metadata": {},
   "source": [
    "# **Scrape ORI, County, and State Mapping and Create a Text File**\n",
    "* **Data source:** Originating Agency Identifier (ORI) Lookup Table \n",
    "* **URL:** https://www.icpsr.umich.edu/files/NACJD/ORIs/"
   ]
  },
  {
   "cell_type": "markdown",
   "metadata": {},
   "source": [
    "# **Import Modules**"
   ]
  },
  {
   "cell_type": "code",
   "execution_count": 1,
   "metadata": {},
   "outputs": [],
   "source": [
    "#### Import the libraries needed\n",
    "import pandas as pd\n",
    "import numpy as np\n",
    "from datetime import datetime, timedelta\n",
    "from pathlib import Path\n",
    "import os\n",
    "import glob\n",
    "\n",
    "import requests\n",
    "from bs4 import BeautifulSoup\n",
    "\n",
    "import warnings\n",
    "from statsmodels.tools.sm_exceptions import ConvergenceWarning\n",
    "warnings.simplefilter('ignore', ConvergenceWarning)\n",
    "warnings.filterwarnings('ignore')\n",
    "%matplotlib notebook\n",
    "%matplotlib inline"
   ]
  },
  {
   "cell_type": "markdown",
   "metadata": {},
   "source": [
    "# **Set Environment**"
   ]
  },
  {
   "cell_type": "code",
   "execution_count": 2,
   "metadata": {},
   "outputs": [],
   "source": [
    "import plotly.io as pio\n",
    "pio.renderers.default = \"vscode\""
   ]
  },
  {
   "cell_type": "code",
   "execution_count": 3,
   "metadata": {},
   "outputs": [],
   "source": [
    "# Set up directory\n",
    "working_directory = Path.cwd()\n",
    "# src = working_directory.parents[1]\n",
    "# data directory\n",
    "raw_data_directory = working_directory / 'data' / 'raw'\n",
    "processed_data_directory = working_directory / 'data' / 'processed'\n",
    "final_data_directory = working_directory / 'data' / 'final'"
   ]
  },
  {
   "cell_type": "code",
   "execution_count": 4,
   "metadata": {},
   "outputs": [],
   "source": [
    "# Set pd.options to add slide bars\n",
    "pd.set_option('display.max_rows', None)\n",
    "pd.set_option('display.max_columns', None)\n",
    "pd.set_option('display.max_colwidth', 100)"
   ]
  },
  {
   "cell_type": "code",
   "execution_count": 31,
   "metadata": {},
   "outputs": [],
   "source": [
    "# Base URL for the websites\n",
    "base_url = \"https://www.icpsr.umich.edu/files/NACJD/ORIs/\"\n",
    "\n",
    "# Initialize empty lists to store data\n",
    "state_list = []\n",
    "city_agency_list = []\n",
    "ori7_list = []\n",
    "ori9_list = []\n",
    "county_list = []"
   ]
  },
  {
   "cell_type": "code",
   "execution_count": 32,
   "metadata": {},
   "outputs": [],
   "source": [
    "# Loop through the range of XX values (01 to 56)\n",
    "for xx in range(56, 57):\n",
    "    # Construct the URL for each site\n",
    "    site_url = f\"{base_url}{xx:02d}oris.html\"\n",
    "\n",
    "    # Send a request to the website\n",
    "    response = requests.get(site_url)\n",
    "\n",
    "    # Check if the request was successful\n",
    "    if response.status_code == 200:\n",
    "        # Parse the HTML content using Beautiful Soup\n",
    "        soup = BeautifulSoup(response.content, \"html.parser\")\n",
    "\n",
    "        # Extract tags <a> Ex. <a name=\"45_ABBEVILLE_(FIPS=001_UCR=001)\">ABBEVILLE (FIPS=001 UCR=001), SC:</a>\n",
    "        county_tags = soup.find_all(lambda tag: tag.name == 'a' and tag.get('name') and not tag.get('href'))\n",
    "        counties_in_state = county_tags[0].text.split(\"(\")[0].strip()\n",
    "        state = counties_in_state.split(\"COUNTIES in \")[1]\n",
    "        county_tags = county_tags[1:]\n",
    "\n",
    "        # Extract tags <pre> (lines) Ex. AIKEN COUNTY SHERIFF'S OFFICE  SC00200 SC0020000 \n",
    "        pre_lines = soup.find_all(\"pre\") \n",
    "\n",
    "        for i in range(len(county_tags)):\n",
    "            county = county_tags[i].text.split(\"(\")[0].strip()  # Extract county name\n",
    "            lines = pre_lines[i].text.split(\"\\n\")[3:-1]\n",
    "            for j in range(len(lines)):\n",
    "                cols = lines[j].split()\n",
    "                if len(cols) >= 3:\n",
    "                    city_agency = cols[:-2]\n",
    "                    if len(city_agency) > 1:\n",
    "                        city_agcy = \" \".join(city_agency)\n",
    "                    ori7 = cols[-2]\n",
    "                    ori9 = cols[-1]\n",
    "\n",
    "                # print(f\"CITY/AGENCY is {city_agcy}, ORI7 is {ori7}, and ORI9 is {ori9}. County is {county}\")\n",
    "                city_agency_list.append(city_agcy)\n",
    "                ori7_list.append(ori7)\n",
    "                ori9_list.append(ori9) \n",
    "                state_list.append(state)\n",
    "                county_list.append(county)\n",
    "\n",
    "    else:\n",
    "        print(f\"Error fetching data from {site_url}\")"
   ]
  },
  {
   "cell_type": "markdown",
   "metadata": {},
   "source": [
    "## **Create a DataFrame**"
   ]
  },
  {
   "cell_type": "code",
   "execution_count": 33,
   "metadata": {},
   "outputs": [],
   "source": [
    "df = pd.DataFrame({\n",
    "    \"agency\": city_agency_list,\n",
    "    \"ORI7\": ori7_list,\n",
    "    \"ORI9\": ori9_list,\n",
    "    \"state\": state_list,\n",
    "    'county': county_list\n",
    "})"
   ]
  },
  {
   "cell_type": "code",
   "execution_count": 24,
   "metadata": {},
   "outputs": [
    {
     "data": {
      "text/html": [
       "<div>\n",
       "<style scoped>\n",
       "    .dataframe tbody tr th:only-of-type {\n",
       "        vertical-align: middle;\n",
       "    }\n",
       "\n",
       "    .dataframe tbody tr th {\n",
       "        vertical-align: top;\n",
       "    }\n",
       "\n",
       "    .dataframe thead th {\n",
       "        text-align: right;\n",
       "    }\n",
       "</style>\n",
       "<table border=\"1\" class=\"dataframe\">\n",
       "  <thead>\n",
       "    <tr style=\"text-align: right;\">\n",
       "      <th></th>\n",
       "      <th>agency</th>\n",
       "      <th>ORI7</th>\n",
       "      <th>ORI9</th>\n",
       "      <th>state</th>\n",
       "      <th>county</th>\n",
       "    </tr>\n",
       "  </thead>\n",
       "  <tbody>\n",
       "    <tr>\n",
       "      <th>0</th>\n",
       "      <td>ADAMS COUNTY SHERIFF'S OFFICE</td>\n",
       "      <td>MS00100</td>\n",
       "      <td>MS0010000</td>\n",
       "      <td>MISSISSIPPI</td>\n",
       "      <td>ADAMS</td>\n",
       "    </tr>\n",
       "    <tr>\n",
       "      <th>1</th>\n",
       "      <td>NATCHEZ POLICE DEPT.</td>\n",
       "      <td>MS00101</td>\n",
       "      <td>MS0010100</td>\n",
       "      <td>MISSISSIPPI</td>\n",
       "      <td>ADAMS</td>\n",
       "    </tr>\n",
       "    <tr>\n",
       "      <th>2</th>\n",
       "      <td>ALCORN COUNTY SHERIFF'S OFFICE</td>\n",
       "      <td>MS00200</td>\n",
       "      <td>MS0020000</td>\n",
       "      <td>MISSISSIPPI</td>\n",
       "      <td>ALCORN</td>\n",
       "    </tr>\n",
       "    <tr>\n",
       "      <th>3</th>\n",
       "      <td>CORINTH POLICE DEPARTMENT</td>\n",
       "      <td>MS00201</td>\n",
       "      <td>MS0020100</td>\n",
       "      <td>MISSISSIPPI</td>\n",
       "      <td>ALCORN</td>\n",
       "    </tr>\n",
       "    <tr>\n",
       "      <th>4</th>\n",
       "      <td>AMITE COUNTY SHERIFF'S OFFICE</td>\n",
       "      <td>MS00300</td>\n",
       "      <td>MS0030000</td>\n",
       "      <td>MISSISSIPPI</td>\n",
       "      <td>AMITE</td>\n",
       "    </tr>\n",
       "  </tbody>\n",
       "</table>\n",
       "</div>"
      ],
      "text/plain": [
       "                           agency     ORI7       ORI9        state  county\n",
       "0   ADAMS COUNTY SHERIFF'S OFFICE  MS00100  MS0010000  MISSISSIPPI   ADAMS\n",
       "1            NATCHEZ POLICE DEPT.  MS00101  MS0010100  MISSISSIPPI   ADAMS\n",
       "2  ALCORN COUNTY SHERIFF'S OFFICE  MS00200  MS0020000  MISSISSIPPI  ALCORN\n",
       "3       CORINTH POLICE DEPARTMENT  MS00201  MS0020100  MISSISSIPPI  ALCORN\n",
       "4   AMITE COUNTY SHERIFF'S OFFICE  MS00300  MS0030000  MISSISSIPPI   AMITE"
      ]
     },
     "execution_count": 24,
     "metadata": {},
     "output_type": "execute_result"
    }
   ],
   "source": [
    "df.head()"
   ]
  },
  {
   "cell_type": "code",
   "execution_count": 25,
   "metadata": {},
   "outputs": [
    {
     "data": {
      "text/html": [
       "<div>\n",
       "<style scoped>\n",
       "    .dataframe tbody tr th:only-of-type {\n",
       "        vertical-align: middle;\n",
       "    }\n",
       "\n",
       "    .dataframe tbody tr th {\n",
       "        vertical-align: top;\n",
       "    }\n",
       "\n",
       "    .dataframe thead th {\n",
       "        text-align: right;\n",
       "    }\n",
       "</style>\n",
       "<table border=\"1\" class=\"dataframe\">\n",
       "  <thead>\n",
       "    <tr style=\"text-align: right;\">\n",
       "      <th></th>\n",
       "      <th>agency</th>\n",
       "      <th>ORI7</th>\n",
       "      <th>ORI9</th>\n",
       "      <th>state</th>\n",
       "      <th>county</th>\n",
       "    </tr>\n",
       "  </thead>\n",
       "  <tbody>\n",
       "    <tr>\n",
       "      <th>13475</th>\n",
       "      <td>GRAND RAPIDS POLICE DEPARTMENT</td>\n",
       "      <td>WI07205</td>\n",
       "      <td>WI0720500</td>\n",
       "      <td>WISCONSIN</td>\n",
       "      <td>WOOD</td>\n",
       "    </tr>\n",
       "    <tr>\n",
       "      <th>13476</th>\n",
       "      <td>MARSHFIELD POLICE DEPARTMENT</td>\n",
       "      <td>WI07201</td>\n",
       "      <td>WI0720100</td>\n",
       "      <td>WISCONSIN</td>\n",
       "      <td>WOOD</td>\n",
       "    </tr>\n",
       "    <tr>\n",
       "      <th>13477</th>\n",
       "      <td>NEKOOSA POLICE DEPARTMENT</td>\n",
       "      <td>WI07202</td>\n",
       "      <td>WI0720200</td>\n",
       "      <td>WISCONSIN</td>\n",
       "      <td>WOOD</td>\n",
       "    </tr>\n",
       "    <tr>\n",
       "      <th>13478</th>\n",
       "      <td>WISCONSIN RAPIDS POLICE DEPARTMENT</td>\n",
       "      <td>WI07203</td>\n",
       "      <td>WI0720300</td>\n",
       "      <td>WISCONSIN</td>\n",
       "      <td>WOOD</td>\n",
       "    </tr>\n",
       "    <tr>\n",
       "      <th>13479</th>\n",
       "      <td>WOOD COUNTY SHERIFF'S OFFICE</td>\n",
       "      <td>WI07200</td>\n",
       "      <td>WI0720000</td>\n",
       "      <td>WISCONSIN</td>\n",
       "      <td>WOOD</td>\n",
       "    </tr>\n",
       "  </tbody>\n",
       "</table>\n",
       "</div>"
      ],
      "text/plain": [
       "                                   agency     ORI7       ORI9      state  \\\n",
       "13475      GRAND RAPIDS POLICE DEPARTMENT  WI07205  WI0720500  WISCONSIN   \n",
       "13476        MARSHFIELD POLICE DEPARTMENT  WI07201  WI0720100  WISCONSIN   \n",
       "13477           NEKOOSA POLICE DEPARTMENT  WI07202  WI0720200  WISCONSIN   \n",
       "13478  WISCONSIN RAPIDS POLICE DEPARTMENT  WI07203  WI0720300  WISCONSIN   \n",
       "13479        WOOD COUNTY SHERIFF'S OFFICE  WI07200  WI0720000  WISCONSIN   \n",
       "\n",
       "      county  \n",
       "13475   WOOD  \n",
       "13476   WOOD  \n",
       "13477   WOOD  \n",
       "13478   WOOD  \n",
       "13479   WOOD  "
      ]
     },
     "execution_count": 25,
     "metadata": {},
     "output_type": "execute_result"
    }
   ],
   "source": [
    "df.tail()"
   ]
  },
  {
   "cell_type": "code",
   "execution_count": null,
   "metadata": {},
   "outputs": [],
   "source": []
  },
  {
   "cell_type": "markdown",
   "metadata": {},
   "source": [
    "## **Save the DataFrame to the Text**"
   ]
  },
  {
   "cell_type": "code",
   "execution_count": 26,
   "metadata": {},
   "outputs": [],
   "source": [
    "file = os.path.join(raw_data_directory, 'ori_county_mapping.tsv')\n",
    "# First time\n",
    "# df.to_csv(file, sep='\\t', index=False)\n",
    "# From the second time\n",
    "df.to_csv(file, sep='\\t', index=False, mode='a', header=False)"
   ]
  },
  {
   "cell_type": "markdown",
   "metadata": {},
   "source": [
    "## **Load ori_county_mapping.tsv**"
   ]
  },
  {
   "cell_type": "code",
   "execution_count": 27,
   "metadata": {},
   "outputs": [],
   "source": [
    "file = os.path.join(raw_data_directory, 'ori_county_mapping.tsv')\n",
    "df = pd.read_csv(file, sep='\\t')"
   ]
  },
  {
   "cell_type": "code",
   "execution_count": 28,
   "metadata": {},
   "outputs": [
    {
     "data": {
      "text/plain": [
       "(23441, 5)"
      ]
     },
     "execution_count": 28,
     "metadata": {},
     "output_type": "execute_result"
    }
   ],
   "source": [
    "df.shape"
   ]
  },
  {
   "cell_type": "code",
   "execution_count": 6,
   "metadata": {},
   "outputs": [
    {
     "name": "stdout",
     "output_type": "stream",
     "text": [
      "<class 'pandas.core.frame.DataFrame'>\n",
      "RangeIndex: 3674 entries, 0 to 3673\n",
      "Data columns (total 5 columns):\n",
      " #   Column  Non-Null Count  Dtype \n",
      "---  ------  --------------  ----- \n",
      " 0   agency  3674 non-null   object\n",
      " 1   ORI7    3674 non-null   object\n",
      " 2   ORI9    3674 non-null   object\n",
      " 3   state   3674 non-null   object\n",
      " 4   county  3674 non-null   object\n",
      "dtypes: object(5)\n",
      "memory usage: 143.6+ KB\n"
     ]
    }
   ],
   "source": [
    "df.info()"
   ]
  },
  {
   "cell_type": "code",
   "execution_count": 29,
   "metadata": {},
   "outputs": [
    {
     "data": {
      "text/html": [
       "<div>\n",
       "<style scoped>\n",
       "    .dataframe tbody tr th:only-of-type {\n",
       "        vertical-align: middle;\n",
       "    }\n",
       "\n",
       "    .dataframe tbody tr th {\n",
       "        vertical-align: top;\n",
       "    }\n",
       "\n",
       "    .dataframe thead th {\n",
       "        text-align: right;\n",
       "    }\n",
       "</style>\n",
       "<table border=\"1\" class=\"dataframe\">\n",
       "  <thead>\n",
       "    <tr style=\"text-align: right;\">\n",
       "      <th></th>\n",
       "      <th>agency</th>\n",
       "      <th>ORI7</th>\n",
       "      <th>ORI9</th>\n",
       "      <th>state</th>\n",
       "      <th>county</th>\n",
       "    </tr>\n",
       "  </thead>\n",
       "  <tbody>\n",
       "    <tr>\n",
       "      <th>count</th>\n",
       "      <td>23441</td>\n",
       "      <td>23441</td>\n",
       "      <td>23441</td>\n",
       "      <td>23441</td>\n",
       "      <td>23441</td>\n",
       "    </tr>\n",
       "    <tr>\n",
       "      <th>unique</th>\n",
       "      <td>17943</td>\n",
       "      <td>21910</td>\n",
       "      <td>21910</td>\n",
       "      <td>50</td>\n",
       "      <td>1883</td>\n",
       "    </tr>\n",
       "    <tr>\n",
       "      <th>top</th>\n",
       "      <td>STATE TRANSPORT POLICE</td>\n",
       "      <td>MA00945</td>\n",
       "      <td>MA0094500</td>\n",
       "      <td>PENNSYLVANIA</td>\n",
       "      <td>WASHINGTON</td>\n",
       "    </tr>\n",
       "    <tr>\n",
       "      <th>freq</th>\n",
       "      <td>45</td>\n",
       "      <td>2</td>\n",
       "      <td>2</td>\n",
       "      <td>1745</td>\n",
       "      <td>283</td>\n",
       "    </tr>\n",
       "  </tbody>\n",
       "</table>\n",
       "</div>"
      ],
      "text/plain": [
       "                        agency     ORI7       ORI9         state      county\n",
       "count                    23441    23441      23441         23441       23441\n",
       "unique                   17943    21910      21910            50        1883\n",
       "top     STATE TRANSPORT POLICE  MA00945  MA0094500  PENNSYLVANIA  WASHINGTON\n",
       "freq                        45        2          2          1745         283"
      ]
     },
     "execution_count": 29,
     "metadata": {},
     "output_type": "execute_result"
    }
   ],
   "source": [
    "df.describe()"
   ]
  },
  {
   "cell_type": "markdown",
   "metadata": {},
   "source": [
    "## **Missing Value Analysis**"
   ]
  },
  {
   "cell_type": "code",
   "execution_count": 30,
   "metadata": {},
   "outputs": [
    {
     "name": "stdout",
     "output_type": "stream",
     "text": [
      "agency has 0 missing values\n",
      "ORI7 has 0 missing values\n",
      "ORI9 has 0 missing values\n",
      "state has 0 missing values\n",
      "county has 1 missing values\n"
     ]
    }
   ],
   "source": [
    "# Check missing values (_Undetermined)\n",
    "for  col in df.columns.to_list():\n",
    "    num = (df[col] == '_Undetermined').sum()\n",
    "    print(f\"{col} has {num} missing values\")\n"
   ]
  },
  {
   "cell_type": "code",
   "execution_count": 14,
   "metadata": {},
   "outputs": [
    {
     "data": {
      "text/html": [
       "<div>\n",
       "<style scoped>\n",
       "    .dataframe tbody tr th:only-of-type {\n",
       "        vertical-align: middle;\n",
       "    }\n",
       "\n",
       "    .dataframe tbody tr th {\n",
       "        vertical-align: top;\n",
       "    }\n",
       "\n",
       "    .dataframe thead th {\n",
       "        text-align: right;\n",
       "    }\n",
       "</style>\n",
       "<table border=\"1\" class=\"dataframe\">\n",
       "  <thead>\n",
       "    <tr style=\"text-align: right;\">\n",
       "      <th></th>\n",
       "      <th>agency</th>\n",
       "      <th>ORI7</th>\n",
       "      <th>ORI9</th>\n",
       "      <th>state</th>\n",
       "      <th>county</th>\n",
       "    </tr>\n",
       "  </thead>\n",
       "  <tbody>\n",
       "    <tr>\n",
       "      <th>1210</th>\n",
       "      <td>SOUTH CENTRAL KY DRUG TASK FORCE</td>\n",
       "      <td>KY07109</td>\n",
       "      <td>KY0710900</td>\n",
       "      <td>KENTUCKY</td>\n",
       "      <td>_Undetermined</td>\n",
       "    </tr>\n",
       "  </tbody>\n",
       "</table>\n",
       "</div>"
      ],
      "text/plain": [
       "                                agency     ORI7       ORI9     state  \\\n",
       "1210  SOUTH CENTRAL KY DRUG TASK FORCE  KY07109  KY0710900  KENTUCKY   \n",
       "\n",
       "             county  \n",
       "1210  _Undetermined  "
      ]
     },
     "execution_count": 14,
     "metadata": {},
     "output_type": "execute_result"
    }
   ],
   "source": [
    "# Check the row\n",
    "df[df['county'] == '_Undetermined']"
   ]
  }
 ],
 "metadata": {
  "kernelspec": {
   "display_name": "Python 3",
   "language": "python",
   "name": "python3"
  },
  "language_info": {
   "codemirror_mode": {
    "name": "ipython",
    "version": 3
   },
   "file_extension": ".py",
   "mimetype": "text/x-python",
   "name": "python",
   "nbconvert_exporter": "python",
   "pygments_lexer": "ipython3",
   "version": "3.11.5"
  }
 },
 "nbformat": 4,
 "nbformat_minor": 2
}
